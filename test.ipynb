{
 "cells": [
  {
   "cell_type": "code",
   "execution_count": 1,
   "metadata": {},
   "outputs": [],
   "source": [
    "s = \"Upstage AI Lab 3기에 오신 여러분 환영합니다.\""
   ]
  },
  {
   "cell_type": "code",
   "execution_count": 2,
   "metadata": {},
   "outputs": [
    {
     "name": "stdout",
     "output_type": "stream",
     "text": [
      "Upstage AI Lab 3기에 오신 여러분 환영합니다.\n"
     ]
    }
   ],
   "source": [
    "print(s)"
   ]
  },
  {
   "cell_type": "code",
   "execution_count": 3,
   "metadata": {},
   "outputs": [
    {
     "name": "stdout",
     "output_type": "stream",
     "text": [
      "32\n"
     ]
    }
   ],
   "source": [
    "print(len(s))"
   ]
  },
  {
   "cell_type": "code",
   "execution_count": 4,
   "metadata": {},
   "outputs": [
    {
     "name": "stdout",
     "output_type": "stream",
     "text": [
      "[1, 4, 5, 5]\n"
     ]
    }
   ],
   "source": [
    "L = [1, 2, 3, 4, 5]\n",
    "L.append(5)\n",
    "L + [4, 3, 2, 1]\n",
    "L.pop(2)\n",
    "L.remove(2)\n",
    "print(L)"
   ]
  },
  {
   "cell_type": "code",
   "execution_count": 5,
   "metadata": {},
   "outputs": [
    {
     "name": "stdout",
     "output_type": "stream",
     "text": [
      "90\n"
     ]
    }
   ],
   "source": [
    "count = 0\n",
    "for i in range(10, 20):\n",
    "    for j in range(1, 10):\n",
    "        count = count + 1\n",
    "print(count)"
   ]
  },
  {
   "cell_type": "code",
   "execution_count": 6,
   "metadata": {},
   "outputs": [
    {
     "name": "stdout",
     "output_type": "stream",
     "text": [
      "Pikachu (Type  : Electric, Level : 6, HP : 33)\n",
      "Charmander (Type  : Fire, Level : 5, HP : 30)\n"
     ]
    }
   ],
   "source": [
    "class Pokemon : \n",
    "    def __init__(self, name, type):\n",
    "        self.name = name\n",
    "        self.type = type\n",
    "        self.level = 5\n",
    "        self.hp = 30\n",
    "\n",
    "    def level_up(self):\n",
    "        self.level += 1\n",
    "        self.hp += 3\n",
    "\n",
    "    def __str__(self):\n",
    "        return f\"{self.name} (Type  : {self.type}, Level : {self.level}, HP : {self.hp})\"\n",
    "    \n",
    "\n",
    "pikachu = Pokemon(\"Pikachu\", \"Electric\")\n",
    "charmander = Pokemon(\"Charmander\", \"Fire\")\n",
    "\n",
    "pikachu.level_up()\n",
    "\n",
    "print(pikachu)\n",
    "print(charmander)"
   ]
  },
  {
   "cell_type": "code",
   "execution_count": 7,
   "metadata": {},
   "outputs": [],
   "source": [
    "import numpy as np"
   ]
  },
  {
   "cell_type": "code",
   "execution_count": 20,
   "metadata": {},
   "outputs": [],
   "source": [
    "a = np.array([5,])\n",
    "b = np.array([6, 5])"
   ]
  },
  {
   "cell_type": "code",
   "execution_count": 21,
   "metadata": {},
   "outputs": [
    {
     "name": "stdout",
     "output_type": "stream",
     "text": [
      "[11 10]\n"
     ]
    }
   ],
   "source": [
    "print(a+b)"
   ]
  },
  {
   "cell_type": "code",
   "execution_count": 22,
   "metadata": {},
   "outputs": [
    {
     "data": {
      "text/plain": [
       "(6,)"
      ]
     },
     "execution_count": 22,
     "metadata": {},
     "output_type": "execute_result"
    }
   ],
   "source": [
    "arr1 = np.array([[1, 2],\n",
    "                 [3, 4],\n",
    "                 [5, 6]])\n",
    "arr2 = np.array([[1, 2, 3],\n",
    "                 [4, 5, 6]])\n",
    "\n",
    "arr3 = arr1.reshape(-1) + arr2.reshape(-1,)\n",
    "arr3.shape"
   ]
  },
  {
   "cell_type": "code",
   "execution_count": 23,
   "metadata": {},
   "outputs": [
    {
     "data": {
      "text/plain": [
       "(3, 2)"
      ]
     },
     "execution_count": 23,
     "metadata": {},
     "output_type": "execute_result"
    }
   ],
   "source": [
    "arr1.shape"
   ]
  },
  {
   "cell_type": "code",
   "execution_count": 24,
   "metadata": {},
   "outputs": [
    {
     "name": "stdout",
     "output_type": "stream",
     "text": [
      "[ 2  4  6  8 10 12]\n"
     ]
    }
   ],
   "source": [
    "print(arr3)"
   ]
  },
  {
   "cell_type": "code",
   "execution_count": 25,
   "metadata": {},
   "outputs": [
    {
     "name": "stdout",
     "output_type": "stream",
     "text": [
      "(5, 6)\n"
     ]
    }
   ],
   "source": [
    "arr4 = np.array([[1, 2, 3, 4, 5, 6],\n",
    "                 [7, 8, 9, 10, 11, 12],\n",
    "                 [13, 14, 15, 16, 17, 18],\n",
    "                 [19, 20, 21, 22, 23, 24],\n",
    "                 [25, 26, 27, 28, 29, 30]])\n",
    "print(arr4.shape)"
   ]
  },
  {
   "cell_type": "code",
   "execution_count": 26,
   "metadata": {},
   "outputs": [
    {
     "data": {
      "text/plain": [
       "(6,)"
      ]
     },
     "execution_count": 26,
     "metadata": {},
     "output_type": "execute_result"
    }
   ],
   "source": [
    "arr5 = arr3 + arr3\n",
    "arr5.shape"
   ]
  },
  {
   "cell_type": "code",
   "execution_count": 29,
   "metadata": {},
   "outputs": [
    {
     "data": {
      "text/plain": [
       "(5, 6)"
      ]
     },
     "execution_count": 29,
     "metadata": {},
     "output_type": "execute_result"
    }
   ],
   "source": [
    "arr6 = arr5 + arr4\n",
    "arr6.shape"
   ]
  },
  {
   "cell_type": "code",
   "execution_count": null,
   "metadata": {},
   "outputs": [],
   "source": []
  },
  {
   "cell_type": "code",
   "execution_count": 56,
   "metadata": {},
   "outputs": [],
   "source": [
    "class BankAccount : \n",
    "    def __init__(self):\n",
    "        while True : \n",
    "            name = input(\"6자리 계좌 번호를 입력해주세요 : \")\n",
    "            if len(name) != 6 :\n",
    "                print(\"Error! 올바른 계좌 번호를 입력하세요.\")\n",
    "            else : \n",
    "                self.name = name\n",
    "                self.balance = 0\n",
    "                break\n",
    "\n",
    "    def deposit(self):\n",
    "        while True :\n",
    "            amount = float(input(\"예금하고 싶은 금액을 입력 해 주세요 : \"))\n",
    "            if amount < 0 :\n",
    "                print(\"Error! 음수 값은 처리 할 수 없습니다. 다시 시도해주세요.\")\n",
    "            else : \n",
    "                self.balance += amount\n",
    "                print(f\"현재 잔액은 {self.balance}원 입니다.\")\n",
    "                break\n",
    "\n",
    "    def withdraw(self):\n",
    "        while True : \n",
    "            amount = float(input(\"인출하고 싶은 금액을 입력 해 주세요 : \"))\n",
    "            if amount > self.balance :\n",
    "                print(\"잔액이 충분하지 않습니다. 확인 후 다시 시도해 주세요.\")\n",
    "            else : \n",
    "                self.balance -= amount\n",
    "                print(f\"현재 잔액은 {self.balance}원 입니다.\")\n",
    "                break\n",
    "        "
   ]
  },
  {
   "cell_type": "code",
   "execution_count": 57,
   "metadata": {},
   "outputs": [],
   "source": [
    "a = BankAccount()"
   ]
  },
  {
   "cell_type": "code",
   "execution_count": null,
   "metadata": {},
   "outputs": [],
   "source": [
    "def transaction_processing(bankaccount_dict, transaction_list):\n",
    "    for account in bankaccount_dict : \n",
    "        \n",
    "    for transaction in transaction_list : \n",
    "        if transaction[0] == 'deposit' :\n"
   ]
  },
  {
   "cell_type": "code",
   "execution_count": null,
   "metadata": {},
   "outputs": [],
   "source": []
  },
  {
   "cell_type": "code",
   "execution_count": null,
   "metadata": {},
   "outputs": [],
   "source": []
  },
  {
   "cell_type": "code",
   "execution_count": null,
   "metadata": {},
   "outputs": [],
   "source": []
  }
 ],
 "metadata": {
  "kernelspec": {
   "display_name": "Python 3",
   "language": "python",
   "name": "python3"
  },
  "language_info": {
   "codemirror_mode": {
    "name": "ipython",
    "version": 3
   },
   "file_extension": ".py",
   "mimetype": "text/x-python",
   "name": "python",
   "nbconvert_exporter": "python",
   "pygments_lexer": "ipython3",
   "version": "3.11.4"
  }
 },
 "nbformat": 4,
 "nbformat_minor": 2
}
